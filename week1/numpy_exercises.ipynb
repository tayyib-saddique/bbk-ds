{
  "cells": [
    {
      "cell_type": "markdown",
      "metadata": {
        "id": "view-in-github",
        "colab_type": "text"
      },
      "source": [
        "<a href=\"https://colab.research.google.com/github/tayyib-saddique/bbk-ds/blob/main/week1/numpy_exercises.ipynb\" target=\"_parent\"><img src=\"https://colab.research.google.com/assets/colab-badge.svg\" alt=\"Open In Colab\"/></a>"
      ]
    },
    {
      "cell_type": "markdown",
      "metadata": {
        "id": "y3a8TFc6Lddg"
      },
      "source": [
        "### Relevant Python modules: Numpy\n",
        "\n",
        "Start this exercise notebook during the tutorial session, you can complete it as homework.\n",
        "\n",
        "Please also see the [online Numpy resources](https://numpy.org/learn/).\n",
        "\n",
        "Installation:\n",
        "\n",
        "```bash\n",
        "pip install numpy\n",
        "```"
      ]
    },
    {
      "cell_type": "code",
      "execution_count": null,
      "metadata": {
        "id": "fzv3TM2oLddh"
      },
      "outputs": [],
      "source": [
        "# check that your kernel 'knows' numpy\n",
        "\n",
        "import numpy as np"
      ]
    },
    {
      "cell_type": "markdown",
      "metadata": {
        "id": "xHDzTBK5Lddi"
      },
      "source": [
        "#### Create an array consisting of 2 rows and 5 columns, containing with the first 10 integers"
      ]
    },
    {
      "cell_type": "code",
      "execution_count": null,
      "metadata": {
        "colab": {
          "base_uri": "https://localhost:8080/"
        },
        "id": "OJ-tnkPWLddk",
        "outputId": "cd7d297c-21a5-412a-e160-7c6b2311eae3"
      },
      "outputs": [
        {
          "output_type": "stream",
          "name": "stdout",
          "text": [
            "[0 1 2 3 4 5 6 7 8 9]\n",
            "[[0 1 2 3 4]\n",
            " [5 6 7 8 9]]\n"
          ]
        },
        {
          "output_type": "execute_result",
          "data": {
            "text/plain": [
              "<function ndarray.round>"
            ]
          },
          "metadata": {},
          "execution_count": 11
        }
      ],
      "source": [
        "my_array = np.arange(10)\n",
        "\n",
        "print(my_array)\n",
        "reshaped_array=my_array.reshape(2,5)\n",
        "print(reshaped_array)\n",
        "\n",
        "my_array.round\n"
      ]
    },
    {
      "cell_type": "markdown",
      "metadata": {
        "id": "Zo7Xqrb0Lddl"
      },
      "source": [
        "##### Use the appropriate methods to print out the shape of the array and the total number of elements"
      ]
    },
    {
      "cell_type": "code",
      "execution_count": null,
      "metadata": {
        "id": "u8gZU7MTLddl",
        "colab": {
          "base_uri": "https://localhost:8080/"
        },
        "outputId": "372cb5df-af30-486f-fa61-ba8510f83c9e"
      },
      "outputs": [
        {
          "output_type": "stream",
          "name": "stdout",
          "text": [
            "(3, 3)\n"
          ]
        }
      ],
      "source": [
        "print(reshaped_array.shape)"
      ]
    },
    {
      "cell_type": "code",
      "execution_count": null,
      "metadata": {
        "id": "L8BRq9JBLddl"
      },
      "outputs": [],
      "source": []
    },
    {
      "cell_type": "markdown",
      "metadata": {
        "id": "y4Rz4TmLLddm"
      },
      "source": [
        "##### What's the sum of the values in each row?"
      ]
    },
    {
      "cell_type": "code",
      "execution_count": null,
      "metadata": {
        "id": "WPbScnFHLddm",
        "colab": {
          "base_uri": "https://localhost:8080/"
        },
        "outputId": "24006ff3-0075-4793-8d27-13f8a1798a98"
      },
      "outputs": [
        {
          "output_type": "stream",
          "name": "stdout",
          "text": [
            "[ 5  7  9 11 13]\n",
            "(2, 5)\n"
          ]
        },
        {
          "output_type": "execute_result",
          "data": {
            "text/plain": [
              "array([2.5, 3.5, 4.5, 5.5, 6.5])"
            ]
          },
          "metadata": {},
          "execution_count": 18
        }
      ],
      "source": [
        "print(reshaped_array.sum(axis=0))\n",
        "print(reshaped_array.shape)\n",
        "reshaped_array.sum(axis=0)/reshaped_array.shape[0]"
      ]
    },
    {
      "cell_type": "markdown",
      "metadata": {
        "id": "SEvhGXgzLddm"
      },
      "source": [
        "##### Generate a 3x3 unit/identity matrix:\n",
        "\n",
        "$$\n",
        "U_{3\\times 3}  =  \n",
        "\\begin{pmatrix}\n",
        "1 & 0 & 0 \\\\\n",
        "0 & 1 & 0 \\\\\n",
        "0 & 0 & 1 \\\\\n",
        "\\end{pmatrix}\n",
        "$$"
      ]
    },
    {
      "cell_type": "code",
      "execution_count": null,
      "metadata": {
        "id": "97KDMdClLddn",
        "colab": {
          "base_uri": "https://localhost:8080/"
        },
        "outputId": "3eefa678-17e4-47b2-f341-d0b5c0bc5c54"
      },
      "outputs": [
        {
          "output_type": "stream",
          "name": "stdout",
          "text": [
            "[[1. 0. 0. 0. 0.]\n",
            " [0. 1. 0. 0. 0.]\n",
            " [0. 0. 1. 0. 0.]\n",
            " [0. 0. 0. 1. 0.]\n",
            " [0. 0. 0. 0. 1.]]\n"
          ]
        }
      ],
      "source": [
        "print(np.eye(5))"
      ]
    },
    {
      "cell_type": "markdown",
      "metadata": {
        "id": "YR8OfFbkLddn"
      },
      "source": [
        "##### Generate a 2x3 matrix with values sampled from a standard normal distribution\n",
        "\n",
        "Have a look at the [online documentation](https://numpy.org/doc/stable/reference/random/index.html)."
      ]
    },
    {
      "cell_type": "markdown",
      "metadata": {
        "id": "J2eEm_TULddn"
      },
      "source": []
    },
    {
      "cell_type": "code",
      "execution_count": null,
      "metadata": {
        "id": "cqxGr6T_Lddn",
        "colab": {
          "base_uri": "https://localhost:8080/"
        },
        "outputId": "14ece2ad-e975-435f-c73b-9930cac0dd65"
      },
      "outputs": [
        {
          "output_type": "stream",
          "name": "stdout",
          "text": [
            "[[ 4.77112624e-01 -8.16468557e-02 -8.54401699e-01 ...  3.30784301e-01\n",
            "  -6.53922308e-01  1.57193704e+00]\n",
            " [ 7.70526333e-01  3.82313334e-01  1.22191405e+00 ... -1.12863221e-03\n",
            "  -3.43567338e-01  2.50459384e-01]\n",
            " [-1.22755503e+00  1.45183584e+00 -9.36843962e-01 ...  2.81292210e-01\n",
            "   3.60640632e-02 -1.26956426e+00]\n",
            " ...\n",
            " [-1.21354460e+00  4.63059613e-01  2.34900635e-01 ...  1.04681454e+00\n",
            "   2.07777559e-02  1.25299839e+00]\n",
            " [ 8.22799999e-01 -6.31971892e-01  1.26370698e+00 ... -7.90789927e-01\n",
            "  -8.65754612e-01  1.80419797e-02]\n",
            " [-9.86131159e-01  2.31604903e-02  1.08445702e+00 ...  3.38145951e-01\n",
            "   6.98718463e-01 -8.64287682e-01]]\n"
          ]
        }
      ],
      "source": [
        "# look at the np.random documentation to sample data\n",
        "print(np.random.randn(10000,15000))"
      ]
    }
  ],
  "metadata": {
    "kernelspec": {
      "display_name": "Python 3",
      "language": "python",
      "name": "python3"
    },
    "language_info": {
      "codemirror_mode": {
        "name": "ipython",
        "version": 3
      },
      "file_extension": ".py",
      "mimetype": "text/x-python",
      "name": "python",
      "nbconvert_exporter": "python",
      "pygments_lexer": "ipython3",
      "version": "3.12.6"
    },
    "colab": {
      "provenance": [],
      "include_colab_link": true
    }
  },
  "nbformat": 4,
  "nbformat_minor": 0
}