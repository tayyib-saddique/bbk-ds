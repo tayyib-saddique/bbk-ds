{
  "cells": [
    {
      "cell_type": "markdown",
      "metadata": {
        "id": "view-in-github",
        "colab_type": "text"
      },
      "source": [
        "<a href=\"https://colab.research.google.com/github/tayyib-saddique/bbk-ds/blob/main/week1/random_a.ipynb\" target=\"_parent\"><img src=\"https://colab.research.google.com/assets/colab-badge.svg\" alt=\"Open In Colab\"/></a>"
      ]
    },
    {
      "cell_type": "markdown",
      "metadata": {
        "id": "HQhHDIrHGQgX"
      },
      "source": [
        "#### Introduction to Random mumber generation with computers\n",
        "\n",
        "##### Von Neumann's [middle-square method](https://en.wikipedia.org/wiki/Middle-square_method)"
      ]
    },
    {
      "cell_type": "code",
      "execution_count": null,
      "metadata": {
        "id": "qhBl-81qGQgY"
      },
      "outputs": [],
      "source": [
        "\n",
        "# the seed must come from outside, be unrelated.\n",
        "# this is Alberto's street number\n",
        "seed = 47\n",
        "\n",
        "# let's generate a fixed quantity of samples\n",
        "\n",
        "SAMPLES = 100\n",
        "\n",
        "# initialise the seed\n",
        "# which won't be revealed\n",
        "trailer = seed\n",
        "\n",
        "for _ in range(SAMPLES):\n",
        "\n",
        "    new_value = trailer**2\n",
        "\n",
        "    # a string can be indexed\n",
        "    string_version = str(new_value)\n",
        "\n",
        "    # print the central digits\n",
        "    print(string_version[1 : 3])\n",
        "\n",
        "    # Original: use the output as the new seed\n",
        "    #trailer = int(string_version[1 : 3])\n",
        "\n",
        "    # MOD: use the integer corresponding to the last 4 digits\n",
        "    trailer = int(string_version[-4 : ])\n"
      ]
    },
    {
      "cell_type": "markdown",
      "metadata": {
        "id": "myd22zjkGQgZ"
      },
      "source": [
        "#### Issues with random\n",
        "\n",
        "We are using *deterministic* machinery to generate values that are valuable only because they are non-deterministic.\n",
        "\n",
        "The issue of *periodicity*: if a number is ever repeated, the output will be deterministic from there on"
      ]
    },
    {
      "cell_type": "markdown",
      "metadata": {
        "id": "sX2tfCauGQga"
      },
      "source": [
        "### Random-number generation in Python\n",
        "\n",
        "```bash\n",
        "pip install random\n",
        "```\n",
        "\n",
        "Thanks to the *random* module we don't have to worry about bias in  data sampling!"
      ]
    },
    {
      "cell_type": "markdown",
      "metadata": {
        "id": "S4YZW0xUGQga"
      },
      "source": [
        "#### Computers play games\n",
        "\n",
        "Fix N to be the largest possible integer.\n",
        "\n",
        "With [Lotto](https://en.wikipedia.org/wiki/Lottery) and [Tombola](https://en.wikipedia.org/wiki/Tombola_(game)) games this is often set to 90.\n",
        "\n",
        "Potential problem: a number could come out twice. Or never.\n",
        "\n",
        "See the relevant documentation to see how random supports tombola-like extractions without replacement."
      ]
    },
    {
      "cell_type": "code",
      "source": [],
      "metadata": {
        "id": "7EBL9vubH072"
      },
      "execution_count": null,
      "outputs": []
    },
    {
      "cell_type": "code",
      "execution_count": null,
      "metadata": {
        "id": "3wK2Q102GQgb"
      },
      "outputs": [],
      "source": [
        "import random as rand\n",
        "\n",
        "N = 90\n",
        "\n",
        "for _ in range(SAMPLES):\n",
        "    print(int(rand.random()*N))"
      ]
    },
    {
      "cell_type": "markdown",
      "metadata": {
        "id": "Jc1JzNOrGQgb"
      },
      "source": [
        "### Sampling with/without replacement"
      ]
    }
  ],
  "metadata": {
    "kernelspec": {
      "display_name": "Python 3",
      "language": "python",
      "name": "python3"
    },
    "language_info": {
      "codemirror_mode": {
        "name": "ipython",
        "version": 3
      },
      "file_extension": ".py",
      "mimetype": "text/x-python",
      "name": "python",
      "nbconvert_exporter": "python",
      "pygments_lexer": "ipython3",
      "version": "3.12.6"
    },
    "colab": {
      "provenance": [],
      "include_colab_link": true
    }
  },
  "nbformat": 4,
  "nbformat_minor": 0
}